{
 "cells": [
  {
   "cell_type": "code",
   "execution_count": 1,
   "metadata": {},
   "outputs": [],
   "source": [
    "import numpy as np\n",
    "import tensorflow as tf\n",
    "from tensorflow import keras\n",
    "import matplotlib.pyplot as plt"
   ]
  },
  {
   "cell_type": "code",
   "execution_count": 2,
   "metadata": {},
   "outputs": [],
   "source": [
    "#Importing ans loading data from MNIST database\n",
    "mnist = keras.datasets.mnist\n",
    "(train_images, train_labels), (test_images, test_labels)=mnist.load_data()"
   ]
  },
  {
   "cell_type": "code",
   "execution_count": 3,
   "metadata": {},
   "outputs": [],
   "source": [
    "#Pixel values lie between 0 and 255, scale to between 0 and 1\n",
    "train_images=train_images/255.0\n",
    "test_images=test_images/255.0"
   ]
  },
  {
   "cell_type": "code",
   "execution_count": 19,
   "metadata": {},
   "outputs": [],
   "source": [
    "#A model with 3 layers - 5 hidden layers\n",
    "model = keras.Sequential([\n",
    "    keras.layers.Flatten(input_shape=(28, 28)),\n",
    "    keras.layers.Dense(128, activation=tf.nn.relu),\n",
    "    keras.layers.Dense(128, activation=tf.nn.relu),\n",
    "    keras.layers.Dense(128, activation=tf.nn.relu),\n",
    "    keras.layers.Dense(128, activation=tf.nn.relu),\n",
    "    keras.layers.Dense(128, activation=tf.nn.relu),\n",
    "    keras.layers.Dense(128, activation=tf.nn.relu),\n",
    "    keras.layers.Dense(128, activation=tf.nn.relu),\n",
    "    keras.layers.Dense(128, activation=tf.nn.relu),\n",
    "    keras.layers.Dense(128, activation=tf.nn.relu),\n",
    "    keras.layers.Dense(128, activation=tf.nn.relu),\n",
    "    keras.layers.Dense(10, activation=tf.nn.softmax)\n",
    "])\n",
    "model.compile(optimizer='adam', \n",
    "              loss='sparse_categorical_crossentropy',\n",
    "              metrics=['accuracy'])"
   ]
  },
  {
   "cell_type": "code",
   "execution_count": 20,
   "metadata": {},
   "outputs": [
    {
     "name": "stdout",
     "output_type": "stream",
     "text": [
      "Epoch 1/20\n",
      "60000/60000 [==============================] - 11s 176us/sample - loss: 0.3235 - acc: 0.9033\n",
      "Epoch 2/20\n",
      "60000/60000 [==============================] - 10s 166us/sample - loss: 0.1533 - acc: 0.9582\n",
      "Epoch 3/20\n",
      "60000/60000 [==============================] - 10s 165us/sample - loss: 0.1205 - acc: 0.9689\n",
      "Epoch 4/20\n",
      "60000/60000 [==============================] - 10s 165us/sample - loss: 0.1000 - acc: 0.9742\n",
      "Epoch 5/20\n",
      "60000/60000 [==============================] - 10s 167us/sample - loss: 0.0841 - acc: 0.9783\n",
      "Epoch 6/20\n",
      "60000/60000 [==============================] - 10s 166us/sample - loss: 0.0752 - acc: 0.9808\n",
      "Epoch 7/20\n",
      "60000/60000 [==============================] - 10s 167us/sample - loss: 0.0683 - acc: 0.9823\n",
      "Epoch 8/20\n",
      "60000/60000 [==============================] - 11s 190us/sample - loss: 0.0569 - acc: 0.9852\n",
      "Epoch 9/20\n",
      "60000/60000 [==============================] - 11s 185us/sample - loss: 0.0583 - acc: 0.9851\n",
      "Epoch 10/20\n",
      "60000/60000 [==============================] - 11s 183us/sample - loss: 0.0478 - acc: 0.9874\n",
      "Epoch 11/20\n",
      "60000/60000 [==============================] - 11s 189us/sample - loss: 0.0523 - acc: 0.9877\n",
      "Epoch 12/20\n",
      "60000/60000 [==============================] - 10s 173us/sample - loss: 0.0418 - acc: 0.9895\n",
      "Epoch 13/20\n",
      "60000/60000 [==============================] - 11s 179us/sample - loss: 0.0426 - acc: 0.9888\n",
      "Epoch 14/20\n",
      "60000/60000 [==============================] - 11s 182us/sample - loss: 0.0410 - acc: 0.9892\n",
      "Epoch 15/20\n",
      "60000/60000 [==============================] - 17s 285us/sample - loss: 0.0360 - acc: 0.9910\n",
      "Epoch 16/20\n",
      "60000/60000 [==============================] - 14s 237us/sample - loss: 0.0370 - acc: 0.9913\n",
      "Epoch 17/20\n",
      "60000/60000 [==============================] - 23s 390us/sample - loss: 0.0339 - acc: 0.9917 - loss: 0.0\n",
      "Epoch 18/20\n",
      "60000/60000 [==============================] - 11s 178us/sample - loss: 0.0414 - acc: 0.9903\n",
      "Epoch 19/20\n",
      "60000/60000 [==============================] - 10s 162us/sample - loss: 0.0311 - acc: 0.9923\n",
      "Epoch 20/20\n",
      "60000/60000 [==============================] - 10s 159us/sample - loss: 0.0310 - acc: 0.9925\n"
     ]
    },
    {
     "data": {
      "text/plain": [
       "<tensorflow.python.keras.callbacks.History at 0x7f62f853b048>"
      ]
     },
     "execution_count": 20,
     "metadata": {},
     "output_type": "execute_result"
    }
   ],
   "source": [
    "model.fit(train_images, train_labels, epochs=20)"
   ]
  },
  {
   "cell_type": "code",
   "execution_count": 13,
   "metadata": {},
   "outputs": [
    {
     "name": "stdout",
     "output_type": "stream",
     "text": [
      "10000/10000 [==============================] - 0s 49us/sample - loss: 0.1112 - acc: 0.9808\n",
      "Test accuracy: 0.9808\n"
     ]
    }
   ],
   "source": [
    "test_loss, test_acc = model.evaluate(test_images, test_labels)\n",
    "\n",
    "print('Test accuracy:', test_acc)"
   ]
  },
  {
   "cell_type": "code",
   "execution_count": 14,
   "metadata": {},
   "outputs": [],
   "source": [
    "predictions = model.predict(test_images)"
   ]
  },
  {
   "cell_type": "code",
   "execution_count": 21,
   "metadata": {},
   "outputs": [
    {
     "name": "stdout",
     "output_type": "stream",
     "text": [
      "Prediction: 7\n",
      "Actual value: 7\n"
     ]
    }
   ],
   "source": [
    "print('Prediction:', np.argmax(predictions[0]))\n",
    "print('Actual value:',test_labels[0])"
   ]
  },
  {
   "cell_type": "code",
   "execution_count": 22,
   "metadata": {},
   "outputs": [],
   "source": [
    "def plot_image(i, predictions_array, true_label, img):\n",
    "  predictions_array, true_label, img = predictions_array[i], true_label[i], img[i]\n",
    "  plt.grid(False)\n",
    "  plt.xticks([])\n",
    "  plt.yticks([])\n",
    "  \n",
    "  plt.imshow(img, cmap=plt.cm.binary)\n",
    "\n",
    "  predicted_label = np.argmax(predictions_array)\n",
    "  if predicted_label == true_label:\n",
    "    color = 'blue'\n",
    "  else:\n",
    "    color = 'red'\n",
    "  \n",
    "  plt.xlabel(\"{} {:2.0f}% ({})\".format(predicted_label,\n",
    "                                100*np.max(predictions_array),\n",
    "                                true_label),\n",
    "                                color=color)\n",
    "\n",
    "def plot_value_array(i, predictions_array, true_label):\n",
    "  predictions_array, true_label = predictions_array[i], true_label[i]\n",
    "  plt.grid(False)\n",
    "  plt.xticks([])\n",
    "  plt.yticks([])\n",
    "  thisplot = plt.bar(range(10), predictions_array, color=\"#777777\")\n",
    "  plt.ylim([0, 1]) \n",
    "  predicted_label = np.argmax(predictions_array)\n",
    " \n",
    "  thisplot[predicted_label].set_color('red')\n",
    "  thisplot[true_label].set_color('blue')"
   ]
  },
  {
   "cell_type": "code",
   "execution_count": 23,
   "metadata": {},
   "outputs": [
    {
     "data": {
      "image/png": "[encoded data removed]",
      "text/plain": [
       "<Figure size 864x720 with 30 Axes>"
      ]
     },
     "metadata": {},
     "output_type": "display_data"
    }
   ],
   "source": [
    "num_rows = 5\n",
    "num_cols = 3\n",
    "num_images = num_rows*num_cols\n",
    "plt.figure(figsize=(2*2*num_cols, 2*num_rows))\n",
    "for i in range(num_images):\n",
    "  plt.subplot(num_rows, 2*num_cols, 2*i+1)\n",
    "  plot_image(i, predictions, test_labels, test_images)\n",
    "  plt.subplot(num_rows, 2*num_cols, 2*i+2)\n",
    "  plot_value_array(i, predictions, test_labels)\n",
    "plt.show()"
   ]
  },
  {
   "cell_type": "code",
   "execution_count": null,
   "metadata": {},
   "outputs": [],
   "source": []
  }
 ],
 "metadata": {
  "kernelspec": {
   "display_name": "Python 3",
   "language": "python",
   "name": "python3"
  },
  "language_info": {
   "codemirror_mode": {
    "name": "ipython",
    "version": 3
   },
   "file_extension": ".py",
   "mimetype": "text/x-python",
   "name": "python",
   "nbconvert_exporter": "python",
   "pygments_lexer": "ipython3",
   "version": "3.6.7"
  }
 },
 "nbformat": 4,
 "nbformat_minor": 2
}
