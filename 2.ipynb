{
 "cells": [
  {
   "cell_type": "code",
   "execution_count": 1,
   "metadata": {},
   "outputs": [],
   "source": [
    "import numpy as np\n",
    "import tensorflow as tf\n",
    "from tensorflow import keras\n",
    "import matplotlib.pyplot as plt"
   ]
  },
  {
   "cell_type": "code",
   "execution_count": 2,
   "metadata": {},
   "outputs": [],
   "source": [
    "#Importing ans loading data from MNIST database\n",
    "mnist = keras.datasets.mnist\n",
    "(train_images, train_labels), (test_images, test_labels)=mnist.load_data()"
   ]
  },
  {
   "cell_type": "code",
   "execution_count": 3,
   "metadata": {},
   "outputs": [],
   "source": [
    "#Pixel values lie between 0 and 255, scale to between 0 and 1\n",
    "train_images=train_images/255.0\n",
    "test_images=test_images/255.0"
   ]
  },
  {
   "cell_type": "code",
   "execution_count": 22,
   "metadata": {},
   "outputs": [],
   "source": [
    "#A model with 3 layers - 2 hidden layers\n",
    "model = keras.Sequential([\n",
    "    keras.layers.Flatten(input_shape=(28, 28)),\n",
    "    keras.layers.Dense(128, activation=tf.nn.relu),\n",
    "    keras.layers.Dense(128, activation=tf.nn.relu),\n",
    "    keras.layers.Dense(10, activation=tf.nn.softmax)\n",
    "])\n",
    "model.compile(optimizer='adam', \n",
    "              loss='sparse_categorical_crossentropy',\n",
    "              metrics=['accuracy'])"
   ]
  },
  {
   "cell_type": "code",
   "execution_count": 23,
   "metadata": {},
   "outputs": [
    {
     "name": "stdout",
     "output_type": "stream",
     "text": [
      "Epoch 1/20\n",
      "60000/60000 [==============================] - 11s 185us/sample - loss: 0.2279 - acc: 0.9327\n",
      "Epoch 2/20\n",
      "60000/60000 [==============================] - 16s 261us/sample - loss: 0.0959 - acc: 0.9694\n",
      "Epoch 3/20\n",
      "60000/60000 [==============================] - 11s 179us/sample - loss: 0.0669 - acc: 0.9791\n",
      "Epoch 4/20\n",
      "60000/60000 [==============================] - 9s 142us/sample - loss: 0.0514 - acc: 0.9836\n",
      "Epoch 5/20\n",
      "60000/60000 [==============================] - 6s 99us/sample - loss: 0.0403 - acc: 0.9865\n",
      "Epoch 6/20\n",
      "60000/60000 [==============================] - 6s 93us/sample - loss: 0.0325 - acc: 0.9894\n",
      "Epoch 7/20\n",
      "60000/60000 [==============================] - 6s 102us/sample - loss: 0.0286 - acc: 0.9907\n",
      "Epoch 8/20\n",
      "60000/60000 [==============================] - 6s 98us/sample - loss: 0.0240 - acc: 0.9919\n",
      "Epoch 9/20\n",
      "60000/60000 [==============================] - 6s 97us/sample - loss: 0.0220 - acc: 0.9929\n",
      "Epoch 10/20\n",
      "60000/60000 [==============================] - 6s 107us/sample - loss: 0.0181 - acc: 0.9938\n",
      "Epoch 11/20\n",
      "60000/60000 [==============================] - 6s 100us/sample - loss: 0.0173 - acc: 0.9940\n",
      "Epoch 12/20\n",
      "60000/60000 [==============================] - 6s 93us/sample - loss: 0.0151 - acc: 0.9951\n",
      "Epoch 13/20\n",
      "60000/60000 [==============================] - 6s 92us/sample - loss: 0.0159 - acc: 0.9946\n",
      "Epoch 14/20\n",
      "60000/60000 [==============================] - 14s 227us/sample - loss: 0.0121 - acc: 0.9959\n",
      "Epoch 15/20\n",
      "60000/60000 [==============================] - 12s 193us/sample - loss: 0.0136 - acc: 0.9955\n",
      "Epoch 16/20\n",
      "60000/60000 [==============================] - 10s 166us/sample - loss: 0.0139 - acc: 0.9958\n",
      "Epoch 17/20\n",
      "60000/60000 [==============================] - 9s 148us/sample - loss: 0.0098 - acc: 0.9965\n",
      "Epoch 18/20\n",
      "60000/60000 [==============================] - 8s 130us/sample - loss: 0.0105 - acc: 0.9970\n",
      "Epoch 19/20\n",
      "60000/60000 [==============================] - 8s 134us/sample - loss: 0.0117 - acc: 0.9963\n",
      "Epoch 20/20\n",
      "60000/60000 [==============================] - 6s 104us/sample - loss: 0.0090 - acc: 0.9968\n"
     ]
    },
    {
     "data": {
      "text/plain": [
       "<tensorflow.python.keras.callbacks.History at 0x7fd3a832fe80>"
      ]
     },
     "execution_count": 23,
     "metadata": {},
     "output_type": "execute_result"
    }
   ],
   "source": [
    "model.fit(train_images, train_labels, epochs=20)"
   ]
  },
  {
   "cell_type": "code",
   "execution_count": 24,
   "metadata": {},
   "outputs": [
    {
     "name": "stdout",
     "output_type": "stream",
     "text": [
      "10000/10000 [==============================] - 1s 51us/sample - loss: 0.0932 - acc: 0.9824\n",
      "Test accuracy: 0.9824\n"
     ]
    }
   ],
   "source": [
    "test_loss, test_acc = model.evaluate(test_images, test_labels)\n",
    "\n",
    "print('Test accuracy:', test_acc)"
   ]
  },
  {
   "cell_type": "code",
   "execution_count": 25,
   "metadata": {},
   "outputs": [],
   "source": [
    "predictions = model.predict(test_images)"
   ]
  },
  {
   "cell_type": "code",
   "execution_count": 26,
   "metadata": {},
   "outputs": [
    {
     "name": "stdout",
     "output_type": "stream",
     "text": [
      "Prediction: 7\n",
      "Actual value: 7\n"
     ]
    }
   ],
   "source": [
    "print('Prediction:', np.argmax(predictions[0]))\n",
    "print('Actual value:',test_labels[0])"
   ]
  },
  {
   "cell_type": "code",
   "execution_count": 27,
   "metadata": {},
   "outputs": [],
   "source": [
    "def plot_image(i, predictions_array, true_label, img):\n",
    "  predictions_array, true_label, img = predictions_array[i], true_label[i], img[i]\n",
    "  plt.grid(False)\n",
    "  plt.xticks([])\n",
    "  plt.yticks([])\n",
    "  \n",
    "  plt.imshow(img, cmap=plt.cm.binary)\n",
    "\n",
    "  predicted_label = np.argmax(predictions_array)\n",
    "  if predicted_label == true_label:\n",
    "    color = 'blue'\n",
    "  else:\n",
    "    color = 'red'\n",
    "  \n",
    "  plt.xlabel(\"{} {:2.0f}% ({})\".format(predicted_label,\n",
    "                                100*np.max(predictions_array),\n",
    "                                true_label),\n",
    "                                color=color)\n",
    "\n",
    "def plot_value_array(i, predictions_array, true_label):\n",
    "  predictions_array, true_label = predictions_array[i], true_label[i]\n",
    "  plt.grid(False)\n",
    "  plt.xticks([])\n",
    "  plt.yticks([])\n",
    "  thisplot = plt.bar(range(10), predictions_array, color=\"#777777\")\n",
    "  plt.ylim([0, 1]) \n",
    "  predicted_label = np.argmax(predictions_array)\n",
    " \n",
    "  thisplot[predicted_label].set_color('red')\n",
    "  thisplot[true_label].set_color('blue')"
   ]
  },
  {
   "cell_type": "code",
   "execution_count": 28,
   "metadata": {},
   "outputs": [
    {
     "data": {
      "image/png": "[encoded data removed]",
      "text/plain": [
       "<Figure size 864x720 with 30 Axes>"
      ]
     },
     "metadata": {},
     "output_type": "display_data"
    }
   ],
   "source": [
    "num_rows = 5\n",
    "num_cols = 3\n",
    "num_images = num_rows*num_cols\n",
    "plt.figure(figsize=(2*2*num_cols, 2*num_rows))\n",
    "for i in range(num_images):\n",
    "  plt.subplot(num_rows, 2*num_cols, 2*i+1)\n",
    "  plot_image(i, predictions, test_labels, test_images)\n",
    "  plt.subplot(num_rows, 2*num_cols, 2*i+2)\n",
    "  plot_value_array(i, predictions, test_labels)\n",
    "plt.show()"
   ]
  },
  {
   "cell_type": "code",
   "execution_count": null,
   "metadata": {},
   "outputs": [],
   "source": []
  }
 ],
 "metadata": {
  "kernelspec": {
   "display_name": "Python 3",
   "language": "python",
   "name": "python3"
  },
  "language_info": {
   "codemirror_mode": {
    "name": "ipython",
    "version": 3
   },
   "file_extension": ".py",
   "mimetype": "text/x-python",
   "name": "python",
   "nbconvert_exporter": "python",
   "pygments_lexer": "ipython3",
   "version": "3.6.7"
  }
 },
 "nbformat": 4,
 "nbformat_minor": 2
}
